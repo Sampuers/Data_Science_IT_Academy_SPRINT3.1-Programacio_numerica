{
 "cells": [
  {
   "cell_type": "markdown",
   "id": "96fe7208",
   "metadata": {},
   "source": [
    "### *Exercici 1\n",
    "##### - Carregar “data” i \"features\" del conjunt de dades, i visualitza els 10 primers registres de cadascun.\n"
   ]
  },
  {
   "cell_type": "code",
   "execution_count": 1,
   "id": "6201306b",
   "metadata": {},
   "outputs": [
    {
     "name": "stdout",
     "output_type": "stream",
     "text": [
      "[[5.1 3.5 1.4 0.2]\n",
      " [4.9 3.  1.4 0.2]\n",
      " [4.7 3.2 1.3 0.2]\n",
      " [4.6 3.1 1.5 0.2]\n",
      " [5.  3.6 1.4 0.2]\n",
      " [5.4 3.9 1.7 0.4]\n",
      " [4.6 3.4 1.4 0.3]\n",
      " [5.  3.4 1.5 0.2]\n",
      " [4.4 2.9 1.4 0.2]\n",
      " [4.9 3.1 1.5 0.1]]\n"
     ]
    }
   ],
   "source": [
    "from sklearn.datasets import load_iris\n",
    "data = load_iris()\n",
    "import numpy as np  \n",
    "datos_data = data.data\n",
    "     \n",
    "print(datos_data[:10])\n"
   ]
  },
  {
   "cell_type": "code",
   "execution_count": 2,
   "id": "503e55c7",
   "metadata": {},
   "outputs": [
    {
     "name": "stdout",
     "output_type": "stream",
     "text": [
      "[0 0 0 0 0 0 0 0 0 0]\n"
     ]
    }
   ],
   "source": [
    "from sklearn.datasets import load_iris\n",
    "data = load_iris()\n",
    "import numpy as np  \n",
    "datos_target = data.target\n",
    "     \n",
    "print(datos_target[:10])\n",
    "    "
   ]
  },
  {
   "cell_type": "markdown",
   "id": "027babc0",
   "metadata": {},
   "source": [
    "  ### *Exercici 2\n",
    "##### - Concatena “data” i “features” en un nou array. Mostra els 5 primers registres.\n"
   ]
  },
  {
   "cell_type": "code",
   "execution_count": 3,
   "id": "4c0c9a51",
   "metadata": {},
   "outputs": [
    {
     "name": "stdout",
     "output_type": "stream",
     "text": [
      "[[5.1 3.5 1.4 0.2 0. ]\n",
      " [4.9 3.  1.4 0.2 0. ]\n",
      " [4.7 3.2 1.3 0.2 0. ]\n",
      " [4.6 3.1 1.5 0.2 0. ]\n",
      " [5.  3.6 1.4 0.2 0. ]]\n"
     ]
    }
   ],
   "source": [
    "arr1 = np.array(datos_target)\n",
    "arr2 = np.array(datos_data)\n",
    "\n",
    "arr = np.column_stack((arr2, arr1))\n",
    "\n",
    "print(arr[:5])\n"
   ]
  },
  {
   "cell_type": "markdown",
   "id": "29210bbe",
   "metadata": {},
   "source": [
    "### *Exercici 3\n",
    "##### - Calcula la mitjana i desviació estàndard de la longitud del sèpal (\"sepal length (cm)\") i la longitud del pètal (\"petal length (cm)\"). Mostra els resultats amb dos decimals.\n"
   ]
  },
  {
   "cell_type": "markdown",
   "id": "ec318740",
   "metadata": {},
   "source": [
    "###### MITJANA SÈPAL"
   ]
  },
  {
   "cell_type": "code",
   "execution_count": 4,
   "id": "9d5d0c45",
   "metadata": {},
   "outputs": [
    {
     "data": {
      "text/plain": [
       "5.84"
      ]
     },
     "execution_count": 4,
     "metadata": {},
     "output_type": "execute_result"
    }
   ],
   "source": [
    "i = 0\n",
    "longitud_sepal =[fila[i] for fila in arr]\n",
    "media_sepal = np.mean(longitud_sepal) \n",
    "round(media_sepal,2)\n"
   ]
  },
  {
   "cell_type": "markdown",
   "id": "81c0555f",
   "metadata": {},
   "source": [
    "##### DESVIACIÓ SÈPAL"
   ]
  },
  {
   "cell_type": "code",
   "execution_count": 5,
   "id": "71c83983",
   "metadata": {},
   "outputs": [
    {
     "data": {
      "text/plain": [
       "0.83"
      ]
     },
     "execution_count": 5,
     "metadata": {},
     "output_type": "execute_result"
    }
   ],
   "source": [
    "i = 0\n",
    "longitud_sepal =[fila[i] for fila in arr]\n",
    "desviacio_sepal = np.std(longitud_sepal) \n",
    "round(desviacio_sepal,2)\n"
   ]
  },
  {
   "cell_type": "markdown",
   "id": "45e540c8",
   "metadata": {},
   "source": [
    "###### MITJANA PÈTAL"
   ]
  },
  {
   "cell_type": "code",
   "execution_count": 6,
   "id": "a28daf74",
   "metadata": {},
   "outputs": [
    {
     "data": {
      "text/plain": [
       "3.76"
      ]
     },
     "execution_count": 6,
     "metadata": {},
     "output_type": "execute_result"
    }
   ],
   "source": [
    "i = 2\n",
    "longitud_petal =[fila[i] for fila in arr]\n",
    "media_petal = np.mean(longitud_petal) \n",
    "round(media_petal,2)"
   ]
  },
  {
   "cell_type": "markdown",
   "id": "ba886ef1",
   "metadata": {},
   "source": [
    "##### DESVIACIÓ PÈTAL"
   ]
  },
  {
   "cell_type": "code",
   "execution_count": 7,
   "id": "c037a258",
   "metadata": {},
   "outputs": [
    {
     "data": {
      "text/plain": [
       "1.76"
      ]
     },
     "execution_count": 7,
     "metadata": {},
     "output_type": "execute_result"
    }
   ],
   "source": [
    "i = 2\n",
    "longitud_petal =[fila[i] for fila in arr]\n",
    "desviacio_petal = np.std(longitud_petal) \n",
    "round(desviacio_petal,2)\n",
    "\n"
   ]
  },
  {
   "cell_type": "markdown",
   "id": "585cd412",
   "metadata": {},
   "source": [
    "### *Exercici 4\n",
    "\n",
    "##### -Selecciona una mostra aleatòria de 20 registres del conjunt que has obtingut en l'exercici anterior.\n"
   ]
  },
  {
   "cell_type": "code",
   "execution_count": 8,
   "id": "d97cb8a2",
   "metadata": {},
   "outputs": [
    {
     "name": "stdout",
     "output_type": "stream",
     "text": [
      "[[7.2 3.  5.8 1.6 2. ]\n",
      " [5.8 2.7 5.1 1.9 2. ]\n",
      " [6.7 3.1 5.6 2.4 2. ]\n",
      " [5.1 3.5 1.4 0.2 0. ]\n",
      " [6.7 3.3 5.7 2.1 2. ]\n",
      " [4.9 2.5 4.5 1.7 2. ]\n",
      " [4.8 3.  1.4 0.1 0. ]\n",
      " [5.7 2.8 4.5 1.3 1. ]\n",
      " [5.7 2.9 4.2 1.3 1. ]\n",
      " [6.3 2.9 5.6 1.8 2. ]\n",
      " [6.4 2.7 5.3 1.9 2. ]\n",
      " [5.5 4.2 1.4 0.2 0. ]\n",
      " [5.5 2.4 3.7 1.  1. ]\n",
      " [6.6 3.  4.4 1.4 1. ]\n",
      " [7.7 2.8 6.7 2.  2. ]\n",
      " [4.7 3.2 1.3 0.2 0. ]\n",
      " [6.4 3.1 5.5 1.8 2. ]\n",
      " [5.2 4.1 1.5 0.1 0. ]\n",
      " [5.1 2.5 3.  1.1 1. ]\n",
      " [5.7 3.  4.2 1.2 1. ]]\n"
     ]
    }
   ],
   "source": [
    "from numpy import random\n",
    "\n",
    "longitud_total = arr.shape[0]\n",
    "indices_muestra = np.random.choice(longitud_total, 20, replace=False)\n",
    "muestra_aleatoria = arr[indices_muestra]\n",
    "print(muestra_aleatoria)"
   ]
  },
  {
   "cell_type": "markdown",
   "id": "9149c7d5",
   "metadata": {},
   "source": [
    "### *Exercici 5\n",
    "##### -Crea una matriu que mostri: \n",
    "###### • La mitjana de cada característica per espècie. \n",
    "###### • La desviació estàndard de cada característica per espècie\n"
   ]
  },
  {
   "cell_type": "code",
   "execution_count": 9,
   "id": "48678282",
   "metadata": {},
   "outputs": [
    {
     "data": {
      "text/plain": [
       "['setosa', 'versicolor', 'virginica']"
      ]
     },
     "execution_count": 9,
     "metadata": {},
     "output_type": "execute_result"
    }
   ],
   "source": [
    "list(data.target_names)\n",
    "['setosa', 'versicolor', 'virginica']"
   ]
  },
  {
   "cell_type": "markdown",
   "id": "f4f74db7",
   "metadata": {},
   "source": [
    "#### MITJANA"
   ]
  },
  {
   "cell_type": "code",
   "execution_count": 10,
   "id": "c7a94d96",
   "metadata": {},
   "outputs": [
    {
     "name": "stdout",
     "output_type": "stream",
     "text": [
      "[['sepal length (cm)' 'sepal width (cm)' 'petal length (cm)'\n",
      "  'petal width (cm)' 'Especies']\n",
      " [5.005999999999999 3.428000000000001 1.4620000000000002\n",
      "  0.2459999999999999 0.0]\n",
      " [5.936 2.7700000000000005 4.26 1.3259999999999998 1.0]\n",
      " [6.587999999999998 2.9739999999999998 5.552 2.026 2.0]]\n"
     ]
    }
   ],
   "source": [
    "# Obtener los datos numéricos (primeras 4 columnas) y las especies (última columna)\n",
    "numeric_data = arr[:, :4]\n",
    "species = arr[:, 4]\n",
    "\n",
    "# Obtener las especies únicas.\n",
    "unique_species = np.unique(species)\n",
    "\n",
    "# Crear una matriz para almacenar los resultados.\n",
    "result = np.zeros((len(unique_species) + 1, numeric_data.shape[1] + 1), dtype=object)\n",
    "\n",
    "# Llenar la primera fila con los encabezados de las columnas.\n",
    "result[0, :-1] = ['sepal length (cm)', 'sepal width (cm)', 'petal length (cm)', 'petal width (cm)']\n",
    "result[0, -1] = 'Especies'\n",
    "\n",
    "# Llenar la primera columna con los nombres de las especies.\n",
    "result[1:, -1] = unique_species\n",
    "\n",
    "# Calcular el promedio de cada columna por cada especie.\n",
    "for i, specie in enumerate(unique_species):\n",
    "    specie_indices = (species == specie)\n",
    "    result[i + 1, :-1] = np.mean(numeric_data[specie_indices], axis=0)\n",
    "\n",
    "print(result)\n",
    "\n",
    "\n"
   ]
  },
  {
   "cell_type": "markdown",
   "id": "ffed1099",
   "metadata": {},
   "source": [
    "#### DESVIACIÓ"
   ]
  },
  {
   "cell_type": "code",
   "execution_count": 11,
   "id": "5b6eec5d",
   "metadata": {},
   "outputs": [
    {
     "name": "stdout",
     "output_type": "stream",
     "text": [
      "[['sepal length (cm)' 'sepal width (cm)' 'petal length (cm)'\n",
      "  'petal width (cm)' 'Especies']\n",
      " [0.348946987377739 0.3752545802518604 0.17191858538273286\n",
      "  0.10432641084595984 0.0]\n",
      " [0.5109833656783752 0.31064449134018135 0.4651881339845204\n",
      "  0.19576516544063702 1.0]\n",
      " [0.6294886813914925 0.319255383666431 0.5463478745268441\n",
      "  0.2718896835115301 2.0]]\n"
     ]
    }
   ],
   "source": [
    "# Lo mismo para la desviació.\n",
    "\n",
    "# Obtener los datos numéricos (primeras 4 columnas) y las especies (última columna)\n",
    "numeric_data = arr[:, :4]\n",
    "species = arr[:, 4]\n",
    "\n",
    "# Obtener las especies únicas.\n",
    "unique_species = np.unique(species)\n",
    "\n",
    "# Crear una matriz para almacenar los resultados.\n",
    "result = np.zeros((len(unique_species) + 1, numeric_data.shape[1] + 1), dtype=object)\n",
    "\n",
    "# Llenar la primera fila con los encabezados de las columnas.\n",
    "result[0, :-1] = ['sepal length (cm)', 'sepal width (cm)', 'petal length (cm)', 'petal width (cm)']\n",
    "result[0, -1] = 'Especies'\n",
    "\n",
    "# Llenar la primera columna con los nombres de las especies.\n",
    "result[1:, -1] = unique_species\n",
    "\n",
    "# Calcular el promedio de cada columna por cada especie.\n",
    "for i, specie in enumerate(unique_species):\n",
    "    specie_indices = (species == specie)\n",
    "    result[i + 1, :-1] = np.std(numeric_data[specie_indices], axis=0)\n",
    "\n",
    "print(result)"
   ]
  },
  {
   "cell_type": "markdown",
   "id": "e2bc2f2e",
   "metadata": {},
   "source": [
    "#### *Exercici 6\n",
    "##### • Calcula la quantitat de mostres per espècie.\n",
    "##### • Troba l'espècie amb el valor màxim mitjana de la variable \"sepal length (cm)\"\n"
   ]
  },
  {
   "cell_type": "code",
   "execution_count": 12,
   "id": "e9d4adb9",
   "metadata": {},
   "outputs": [
    {
     "name": "stdout",
     "output_type": "stream",
     "text": [
      "{0.0: 50, 1.0: 50, 2.0: 50}\n"
     ]
    }
   ],
   "source": [
    "especies = np.unique(arr[:, -1])\n",
    "\n",
    "cantidad_muestras_por_especie = {especie: np.sum(arr[:, -1] == especie) for especie in especies}\n",
    "\n",
    "print(cantidad_muestras_por_especie)"
   ]
  },
  {
   "cell_type": "code",
   "execution_count": 13,
   "id": "5b5e7e21",
   "metadata": {},
   "outputs": [
    {
     "name": "stdout",
     "output_type": "stream",
     "text": [
      "La especie que corresponde al valor máximo de la media de la columna del sepal length es: 0.0\n"
     ]
    }
   ],
   "source": [
    "# Variable columna de valores = 0{sepal length}\n",
    "\n",
    "indice_columna_0 = 0\n",
    "\n",
    "# Variable columna de valores = 4 {especies}\n",
    "\n",
    "indice_columna_4 = 4\n",
    "\n",
    "# Calculo de la media de la columna 0\n",
    "\n",
    "media_columna_0 = np.mean(arr[:, indice_columna_0])\n",
    "\n",
    "# Encontrar el indice del valor máximo de la media columna 0.\n",
    "\n",
    "max_media_columna_0 = np.argmax(media_columna_0)\n",
    "\n",
    "# Ahora encontrar la especie que correponda al máximo valor de la columna 0.\n",
    "\n",
    "especie_max_media = arr[max_media_columna_0, indice_columna_4]\n",
    "\n",
    "print(f'La especie que corresponde al valor máximo de la media de la columna del sepal length es: {especie_max_media}')\n",
    "\n",
    "\n"
   ]
  },
  {
   "cell_type": "markdown",
   "id": "80a94339",
   "metadata": {},
   "source": [
    "### - Exercici 7\n",
    "###### • Calcula la matriu de correlació entre les variables.\n",
    "###### • Filtra els valors majors a la mitjana de la longitud dels pètals i mostra-ho. \n",
    "###### • Troba la mostra amb els pètals més grans.\n"
   ]
  },
  {
   "cell_type": "code",
   "execution_count": 14,
   "id": "28d95ddd",
   "metadata": {},
   "outputs": [],
   "source": [
    "# Primero tengo que trasponer los datos de las columnas en filas\n",
    "datos_traspuestos = arr.T"
   ]
  },
  {
   "cell_type": "code",
   "execution_count": 15,
   "id": "8bc541f8",
   "metadata": {},
   "outputs": [
    {
     "name": "stdout",
     "output_type": "stream",
     "text": [
      "[[ 1.         -0.11756978  0.87175378  0.81794113  0.78256123]\n",
      " [-0.11756978  1.         -0.4284401  -0.36612593 -0.42665756]\n",
      " [ 0.87175378 -0.4284401   1.          0.96286543  0.9490347 ]\n",
      " [ 0.81794113 -0.36612593  0.96286543  1.          0.95654733]\n",
      " [ 0.78256123 -0.42665756  0.9490347   0.95654733  1.        ]]\n"
     ]
    }
   ],
   "source": [
    "# correlacion\n",
    "matriz_correlacion = np.corrcoef(datos_traspuestos)# Crea matriz de correlación.\n",
    "print(matriz_correlacion)"
   ]
  },
  {
   "cell_type": "code",
   "execution_count": 16,
   "id": "45d0b730",
   "metadata": {},
   "outputs": [
    {
     "ename": "NameError",
     "evalue": "name 'longituds_petals' is not defined",
     "output_type": "error",
     "traceback": [
      "\u001b[1;31m---------------------------------------------------------------------------\u001b[0m",
      "\u001b[1;31mNameError\u001b[0m                                 Traceback (most recent call last)",
      "Cell \u001b[1;32mIn[16], line 5\u001b[0m\n\u001b[0;32m      1\u001b[0m \u001b[38;5;66;03m# valores mayor que la mitjana.\u001b[39;00m\n\u001b[0;32m      3\u001b[0m longitud_petals \u001b[38;5;241m=\u001b[39m np\u001b[38;5;241m.\u001b[39marray([arr])\n\u001b[1;32m----> 5\u001b[0m mitjana_petals \u001b[38;5;241m=\u001b[39m np\u001b[38;5;241m.\u001b[39mmean(\u001b[43mlongituds_petals\u001b[49m)\n\u001b[0;32m      8\u001b[0m valors_major_que_mitjana \u001b[38;5;241m=\u001b[39m longitud_petals[longituds_petals \u001b[38;5;241m>\u001b[39m mitjana_petals]\n\u001b[0;32m     10\u001b[0m \u001b[38;5;28mprint\u001b[39m(valors_major_que_mitjana)\n",
      "\u001b[1;31mNameError\u001b[0m: name 'longituds_petals' is not defined"
     ]
    }
   ],
   "source": [
    "# valores mayor que la mitjana.\n",
    "\n",
    "longitud_petals = np.array([arr])\n",
    "\n",
    "mitjana_petals = np.mean(longituds_petals)\n",
    "\n",
    "\n",
    "valors_major_que_mitjana = longitud_petals[longituds_petals > mitjana_petals]\n",
    "\n",
    "print(valors_major_que_mitjana)"
   ]
  },
  {
   "cell_type": "code",
   "execution_count": null,
   "id": "9f0cd48a",
   "metadata": {},
   "outputs": [],
   "source": [
    "\n",
    "columna_longitud_petalo = 2\n",
    "\n",
    "indice_fila_max_petalos = np.argmax(arr[:, columna_longitud_petalo])\n",
    "\n",
    "\n",
    "muestra_max_petalos = arr[indice_fila_max_petalos]\n",
    "\n",
    "print(muestra_max_petalos)"
   ]
  },
  {
   "cell_type": "markdown",
   "id": "0c3c8b91",
   "metadata": {},
   "source": [
    "### - Exercici 8\n",
    "##### Troba l'espècie amb la diferència més gran entre la longitud mitjana de sèpals i pètals.\n"
   ]
  },
  {
   "cell_type": "code",
   "execution_count": null,
   "id": "e98ac080",
   "metadata": {},
   "outputs": [],
   "source": [
    "especies = arr[:, -1]\n",
    "longitud_sepalos = arr[:, 0]\n",
    "longitud_petalos = arr[:, 2]\n",
    "\n",
    "\n",
    "longitud_mediana_sepalos = {}\n",
    "longitud_mediana_petalos = {}\n",
    "\n",
    "for especie in np.unique(especies):\n",
    "    longitud_mediana_sepalos[especie] = np.mean(longitud_sepalos)\n",
    "    longitud_mediana_petalos[especie] = np.mean(longitud_petalos)\n",
    "\n",
    "\n",
    "diferencia_longitudes = {}\n",
    "\n",
    "for especie in np.unique(especies):\n",
    "        diferencia_longitudes[especie] = abs(longitud_mediana_sepalos[especie] - longitud_mediana_petalos[especie])\n",
    "\n",
    "\n",
    "especie_max_diferencia = max(diferencia_longitudes, key=diferencia_longitudes.get)\n",
    "maxima_diferencia = diferencia_longitudes[especie_max_diferencia]\n",
    "\n",
    "print(\"Especie mayor diferencia:\", especie_max_diferencia)\n",
    "print(\"Diferencia más grande:\", maxima_diferencia)"
   ]
  },
  {
   "cell_type": "code",
   "execution_count": null,
   "id": "43ef9971",
   "metadata": {},
   "outputs": [],
   "source": []
  }
 ],
 "metadata": {
  "kernelspec": {
   "display_name": "Python 3 (ipykernel)",
   "language": "python",
   "name": "python3"
  },
  "language_info": {
   "codemirror_mode": {
    "name": "ipython",
    "version": 3
   },
   "file_extension": ".py",
   "mimetype": "text/x-python",
   "name": "python",
   "nbconvert_exporter": "python",
   "pygments_lexer": "ipython3",
   "version": "3.10.9"
  }
 },
 "nbformat": 4,
 "nbformat_minor": 5
}
