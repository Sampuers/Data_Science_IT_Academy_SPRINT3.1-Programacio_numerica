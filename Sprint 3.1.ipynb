{
 "cells": [
  {
   "cell_type": "markdown",
   "id": "96fe7208",
   "metadata": {},
   "source": [
    "### *Exercici 1\n",
    "##### - Carregar “data” i \"features\" del conjunt de dades, i visualitza els 10 primers registres de cadascun.\n"
   ]
  },
  {
   "cell_type": "code",
   "execution_count": 4,
   "id": "6201306b",
   "metadata": {},
   "outputs": [
    {
     "name": "stdout",
     "output_type": "stream",
     "text": [
      "[[5.1 3.5 1.4 0.2]\n",
      " [4.9 3.  1.4 0.2]\n",
      " [4.7 3.2 1.3 0.2]\n",
      " [4.6 3.1 1.5 0.2]\n",
      " [5.  3.6 1.4 0.2]\n",
      " [5.4 3.9 1.7 0.4]\n",
      " [4.6 3.4 1.4 0.3]\n",
      " [5.  3.4 1.5 0.2]\n",
      " [4.4 2.9 1.4 0.2]\n",
      " [4.9 3.1 1.5 0.1]]\n"
     ]
    }
   ],
   "source": [
    "from sklearn.datasets import load_iris\n",
    "data = load_iris()\n",
    "import numpy as np  \n",
    "datos_data = data.data\n",
    "     \n",
    "print(datos_data[:10])\n"
   ]
  },
  {
   "cell_type": "code",
   "execution_count": 5,
   "id": "503e55c7",
   "metadata": {},
   "outputs": [
    {
     "name": "stdout",
     "output_type": "stream",
     "text": [
      "[0 0 0 0 0 0 0 0 0 0]\n"
     ]
    }
   ],
   "source": [
    "from sklearn.datasets import load_iris\n",
    "data = load_iris()\n",
    "import numpy as np  \n",
    "datos_target = data.target\n",
    "     \n",
    "print(datos_target[:10])\n",
    "    "
   ]
  },
  {
   "cell_type": "markdown",
   "id": "027babc0",
   "metadata": {},
   "source": [
    "  ### *Exercici 2\n",
    "##### - Concatena “data” i “features” en un nou array. Mostra els 5 primers registres.\n"
   ]
  },
  {
   "cell_type": "code",
   "execution_count": 6,
   "id": "4c0c9a51",
   "metadata": {},
   "outputs": [
    {
     "name": "stdout",
     "output_type": "stream",
     "text": [
      "[[5.1 3.5 1.4 0.2 0. ]\n",
      " [4.9 3.  1.4 0.2 0. ]\n",
      " [4.7 3.2 1.3 0.2 0. ]\n",
      " [4.6 3.1 1.5 0.2 0. ]\n",
      " [5.  3.6 1.4 0.2 0. ]]\n"
     ]
    }
   ],
   "source": [
    "arr1 = np.array(datos_target)\n",
    "arr2 = np.array(datos_data)\n",
    "\n",
    "arr = np.column_stack((arr2, arr1))\n",
    "\n",
    "print(arr[:5])\n"
   ]
  },
  {
   "cell_type": "markdown",
   "id": "29210bbe",
   "metadata": {},
   "source": [
    "### *Exercici 3\n",
    "##### - Calcula la mitjana i desviació estàndard de la longitud del sèpal (\"sepal length (cm)\") i la longitud del pètal (\"petal length (cm)\"). Mostra els resultats amb dos decimals.\n"
   ]
  },
  {
   "cell_type": "markdown",
   "id": "ec318740",
   "metadata": {},
   "source": [
    "###### MEDIANA SÈPAL"
   ]
  },
  {
   "cell_type": "code",
   "execution_count": 7,
   "id": "9d5d0c45",
   "metadata": {},
   "outputs": [
    {
     "data": {
      "text/plain": [
       "5.8"
      ]
     },
     "execution_count": 7,
     "metadata": {},
     "output_type": "execute_result"
    }
   ],
   "source": [
    "i = 0\n",
    "longitud_sepal =[fila[i] for fila in arr]\n",
    "mediana_sepal = np.median(longitud_sepal) \n",
    "round(mediana_sepal,2)\n"
   ]
  },
  {
   "cell_type": "markdown",
   "id": "81c0555f",
   "metadata": {},
   "source": [
    "##### DESVIACIÓ SÈPAL"
   ]
  },
  {
   "cell_type": "code",
   "execution_count": 8,
   "id": "71c83983",
   "metadata": {},
   "outputs": [
    {
     "data": {
      "text/plain": [
       "0.83"
      ]
     },
     "execution_count": 8,
     "metadata": {},
     "output_type": "execute_result"
    }
   ],
   "source": [
    "i = 0\n",
    "longitud_sepal =[fila[i] for fila in arr]\n",
    "desviacio_sepal = np.std(longitud_sepal) \n",
    "round(desviacio_sepal,2)\n"
   ]
  },
  {
   "cell_type": "markdown",
   "id": "45e540c8",
   "metadata": {},
   "source": [
    "###### MEDIANA PÈTAL"
   ]
  },
  {
   "cell_type": "code",
   "execution_count": 9,
   "id": "a28daf74",
   "metadata": {},
   "outputs": [
    {
     "data": {
      "text/plain": [
       "4.35"
      ]
     },
     "execution_count": 9,
     "metadata": {},
     "output_type": "execute_result"
    }
   ],
   "source": [
    "i = 2\n",
    "longitud_petal =[fila[i] for fila in arr]\n",
    "mediana_petal = np.median(longitud_petal) \n",
    "round(mediana_petal,2)"
   ]
  },
  {
   "cell_type": "markdown",
   "id": "ba886ef1",
   "metadata": {},
   "source": [
    "##### DESVIACIÓ PÈTAL"
   ]
  },
  {
   "cell_type": "code",
   "execution_count": 10,
   "id": "c037a258",
   "metadata": {},
   "outputs": [
    {
     "data": {
      "text/plain": [
       "1.76"
      ]
     },
     "execution_count": 10,
     "metadata": {},
     "output_type": "execute_result"
    }
   ],
   "source": [
    "i = 2\n",
    "longitud_petal =[fila[i] for fila in arr]\n",
    "desviacio_petal = np.std(longitud_petal) \n",
    "round(desviacio_petal,2)\n",
    "\n"
   ]
  },
  {
   "cell_type": "markdown",
   "id": "585cd412",
   "metadata": {},
   "source": [
    "### *Exercici 4\n",
    "\n",
    "##### -Selecciona una mostra aleatòria de 20 registres del conjunt que has obtingut en l'exercici anterior.\n"
   ]
  },
  {
   "cell_type": "code",
   "execution_count": 11,
   "id": "d97cb8a2",
   "metadata": {},
   "outputs": [
    {
     "name": "stdout",
     "output_type": "stream",
     "text": [
      "[[6.3 2.3 4.4 1.3 1. ]\n",
      " [4.6 3.4 1.4 0.3 0. ]\n",
      " [6.  2.7 5.1 1.6 1. ]\n",
      " [5.8 2.7 5.1 1.9 2. ]\n",
      " [4.8 3.4 1.9 0.2 0. ]\n",
      " [6.9 3.1 5.1 2.3 2. ]\n",
      " [5.7 4.4 1.5 0.4 0. ]\n",
      " [5.2 2.7 3.9 1.4 1. ]\n",
      " [6.5 3.2 5.1 2.  2. ]\n",
      " [6.7 3.3 5.7 2.5 2. ]\n",
      " [6.4 2.7 5.3 1.9 2. ]\n",
      " [5.2 3.4 1.4 0.2 0. ]\n",
      " [6.4 3.2 5.3 2.3 2. ]\n",
      " [6.8 3.  5.5 2.1 2. ]\n",
      " [5.8 2.8 5.1 2.4 2. ]\n",
      " [6.3 2.8 5.1 1.5 2. ]\n",
      " [5.9 3.  4.2 1.5 1. ]\n",
      " [6.1 2.6 5.6 1.4 2. ]\n",
      " [4.9 3.6 1.4 0.1 0. ]\n",
      " [5.6 3.  4.1 1.3 1. ]]\n"
     ]
    }
   ],
   "source": [
    "from numpy import random\n",
    "\n",
    "longitud_total = arr.shape[0]\n",
    "indices_muestra = np.random.choice(longitud_total, 20, replace=False)\n",
    "muestra_aleatoria = arr[indices_muestra]\n",
    "print(muestra_aleatoria)"
   ]
  },
  {
   "cell_type": "markdown",
   "id": "9149c7d5",
   "metadata": {},
   "source": [
    "### *Exercici 5\n",
    "##### -Crea una matriu que mostri: \n",
    "###### • La mitjana de cada característica per espècie. \n",
    "###### • La desviació estàndard de cada característica per espècie\n"
   ]
  },
  {
   "cell_type": "code",
   "execution_count": 12,
   "id": "48678282",
   "metadata": {},
   "outputs": [
    {
     "data": {
      "text/plain": [
       "['setosa', 'versicolor', 'virginica']"
      ]
     },
     "execution_count": 12,
     "metadata": {},
     "output_type": "execute_result"
    }
   ],
   "source": [
    "list(data.target_names)\n",
    "['setosa', 'versicolor', 'virginica']"
   ]
  },
  {
   "cell_type": "markdown",
   "id": "f4f74db7",
   "metadata": {},
   "source": [
    "#### MITJANA"
   ]
  },
  {
   "cell_type": "code",
   "execution_count": 13,
   "id": "16f4508d",
   "metadata": {},
   "outputs": [
    {
     "name": "stdout",
     "output_type": "stream",
     "text": [
      "Valor Único: 0.0\n",
      "Media por especie: 2.088\n",
      "Valor Único: 1.0\n",
      "Media por especie: 3.06\n",
      "Valor Único: 2.0\n",
      "Media por especie: 3.7260000000000004\n"
     ]
    }
   ],
   "source": [
    "\n",
    "valores_unicos = np.unique(muestra_aleatoria[:, -1])\n",
    "\n",
    "\n",
    "for valor_unico in valores_unicos:\n",
    "   \n",
    "    filas_con_valor_unico = muestra_aleatoria[muestra_aleatoria[:, -1] == valor_unico]\n",
    "    \n",
    "   \n",
    "    media_valor = np.mean(filas_con_valor_unico)\n",
    "    \n",
    "    print(f'Valor Único: {valor_unico}')\n",
    "    print(f'Media por especie: {media_valor}')\n"
   ]
  },
  {
   "cell_type": "markdown",
   "id": "ffed1099",
   "metadata": {},
   "source": [
    "#### DESVIACIÓ"
   ]
  },
  {
   "cell_type": "code",
   "execution_count": 79,
   "id": "40f737ff",
   "metadata": {},
   "outputs": [
    {
     "name": "stdout",
     "output_type": "stream",
     "text": [
      "Valor Único: 0.0\n",
      "Desviación por especie: 1.8815017883573315\n",
      "Valor Único: 1.0\n",
      "Desviación por especie: 1.9384014032186418\n",
      "Valor Único: 2.0\n",
      "Desviación por especie: 1.9264475077198444\n"
     ]
    }
   ],
   "source": [
    "valores_unicos = np.unique(muestra_aleatoria[:, -1])\n",
    "\n",
    "\n",
    "for valor_unico in valores_unicos:\n",
    "   \n",
    "    filas_con_valor_unico = muestra_aleatoria[muestra_aleatoria[:, -1] == valor_unico]\n",
    "    \n",
    "   \n",
    "    desviacion_valor = np.std(filas_con_valor_unico)\n",
    "    \n",
    "    print(f'Valor Único: {valor_unico}')\n",
    "    print(f'Desviación por especie: {desviacion_valor}')"
   ]
  },
  {
   "cell_type": "markdown",
   "id": "e2bc2f2e",
   "metadata": {},
   "source": [
    "#### *Exercici 6\n",
    "##### • Calcula la quantitat de mostres per espècie.\n",
    "##### • Troba l'espècie amb el valor màxim mitjana de la variable \"sepal length (cm)\"\n"
   ]
  },
  {
   "cell_type": "code",
   "execution_count": 36,
   "id": "e9d4adb9",
   "metadata": {},
   "outputs": [
    {
     "name": "stdout",
     "output_type": "stream",
     "text": [
      "{0.0: 50, 1.0: 50, 2.0: 50}\n"
     ]
    }
   ],
   "source": [
    "especies = np.unique(arr[:, -1])\n",
    "\n",
    "cantidad_muestras_por_especie = {especie: np.sum(arr[:, -1] == especie) for especie in especies}\n",
    "\n",
    "print(cantidad_muestras_por_especie)"
   ]
  },
  {
   "cell_type": "code",
   "execution_count": 39,
   "id": "5b5e7e21",
   "metadata": {},
   "outputs": [
    {
     "name": "stdout",
     "output_type": "stream",
     "text": [
      "La especie con el valor medio máximo es: 2.0\n"
     ]
    }
   ],
   "source": [
    "especies = np.unique(arr[:, -1]) \n",
    "\n",
    "mitjanes = []  \n",
    "for especie in especies:\n",
    "    mediana_sepal = np.mean(arr[arr[:, -1] == especie][:, 0]) \n",
    "    mitjanes.append(mediana_sepal)\n",
    "\n",
    "especie_max_mitjana = especies[np.argmax(mitjanes)]\n",
    "\n",
    "print(\"La especie con el valor medio máximo es:\", espècie_max_mitjana)"
   ]
  },
  {
   "cell_type": "markdown",
   "id": "80a94339",
   "metadata": {},
   "source": [
    "### - Exercici 7\n",
    "###### • Calcula la matriu de correlació entre les variables.\n",
    "###### • Filtra els valors majors a la mitjana de la longitud dels pètals i mostra-ho. \n",
    "###### • Troba la mostra amb els pètals més grans.\n"
   ]
  },
  {
   "cell_type": "code",
   "execution_count": 41,
   "id": "8bc541f8",
   "metadata": {},
   "outputs": [
    {
     "data": {
      "text/plain": [
       "array([[1.        , 0.99706483, 0.99997795, ..., 0.73911793, 0.73861621,\n",
       "        0.72169879],\n",
       "       [0.99706483, 1.        , 0.99750791, ..., 0.78062955, 0.77554908,\n",
       "        0.76056628],\n",
       "       [0.99997795, 0.99750791, 1.        , ..., 0.74245616, 0.74174869,\n",
       "        0.72472528],\n",
       "       ...,\n",
       "       [0.73911793, 0.78062955, 0.74245616, ..., 1.        , 0.99295525,\n",
       "        0.99565547],\n",
       "       [0.73861621, 0.77554908, 0.74174869, ..., 0.99295525, 1.        ,\n",
       "        0.99497962],\n",
       "       [0.72169879, 0.76056628, 0.72472528, ..., 0.99565547, 0.99497962,\n",
       "        1.        ]])"
      ]
     },
     "execution_count": 41,
     "metadata": {},
     "output_type": "execute_result"
    }
   ],
   "source": [
    "# correlacion\n",
    "np.corrcoef(arr)# Crea matriz de correlación."
   ]
  },
  {
   "cell_type": "code",
   "execution_count": 43,
   "id": "41474b7b",
   "metadata": {},
   "outputs": [
    {
     "data": {
      "text/plain": [
       "array([[1.        , 0.99706483],\n",
       "       [0.99706483, 1.        ]])"
      ]
     },
     "execution_count": 43,
     "metadata": {},
     "output_type": "execute_result"
    }
   ],
   "source": [
    "# calculando la correlación entre dos vectores.\n",
    "np.corrcoef(arr[0], arr[1])"
   ]
  },
  {
   "cell_type": "code",
   "execution_count": 47,
   "id": "45d0b730",
   "metadata": {},
   "outputs": [
    {
     "name": "stdout",
     "output_type": "stream",
     "text": [
      "[5.1 3.5 4.9 3.  4.7 3.2 4.6 3.1 5.  3.6 5.4 3.9 4.6 3.4 5.  3.4 4.4 4.9\n",
      " 3.1 5.4 3.7 4.8 3.4 4.8 3.  4.3 3.  5.8 4.  5.7 4.4 5.4 3.9 5.1 3.5 5.7\n",
      " 3.8 5.1 3.8 5.4 3.4 5.1 3.7 4.6 3.6 5.1 3.3 4.8 3.4 5.  3.  5.  3.4 5.2\n",
      " 3.5 5.2 3.4 4.7 3.2 4.8 3.1 5.4 3.4 5.2 4.1 5.5 4.2 4.9 3.1 5.  3.2 5.5\n",
      " 3.5 4.9 3.6 4.4 3.  5.1 3.4 5.  3.5 4.5 4.4 3.2 5.  3.5 5.1 3.8 4.8 3.\n",
      " 5.1 3.8 4.6 3.2 5.3 3.7 5.  3.3 7.  3.2 4.7 6.4 3.2 4.5 6.9 3.1 4.9 5.5\n",
      " 4.  6.5 4.6 5.7 4.5 6.3 3.3 4.7 4.9 3.3 6.6 4.6 5.2 3.9 5.  3.5 5.9 3.\n",
      " 4.2 6.  4.  6.1 4.7 5.6 3.6 6.7 3.1 4.4 5.6 3.  4.5 5.8 4.1 6.2 4.5 5.6\n",
      " 3.9 5.9 3.2 4.8 6.1 4.  6.3 4.9 6.1 4.7 6.4 4.3 6.6 3.  4.4 6.8 4.8 6.7\n",
      " 3.  5.  6.  4.5 5.7 3.5 5.5 3.8 5.5 3.7 5.8 3.9 6.  5.1 5.4 3.  4.5 6.\n",
      " 3.4 4.5 6.7 3.1 4.7 6.3 4.4 5.6 3.  4.1 5.5 4.  5.5 4.4 6.1 3.  4.6 5.8\n",
      " 4.  5.  3.3 5.6 4.2 5.7 3.  4.2 5.7 4.2 6.2 4.3 5.1 3.  5.7 4.1 6.3 3.3\n",
      " 6.  5.8 5.1 7.1 3.  5.9 6.3 5.6 6.5 3.  5.8 7.6 3.  6.6 4.9 4.5 7.3 6.3\n",
      " 6.7 5.8 7.2 3.6 6.1 6.5 3.2 5.1 6.4 5.3 6.8 3.  5.5 5.7 5.  5.8 5.1 6.4\n",
      " 3.2 5.3 6.5 3.  5.5 7.7 3.8 6.7 7.7 6.9 6.  5.  6.9 3.2 5.7 5.6 4.9 7.7\n",
      " 6.7 6.3 4.9 6.7 3.3 5.7 7.2 3.2 6.  6.2 4.8 6.1 3.  4.9 6.4 5.6 7.2 3.\n",
      " 5.8 7.4 6.1 7.9 3.8 6.4 6.4 5.6 6.3 5.1 6.1 5.6 7.7 3.  6.1 6.3 3.4 5.6\n",
      " 6.4 3.1 5.5 6.  3.  4.8 6.9 3.1 5.4 6.7 3.1 5.6 6.9 3.1 5.1 5.8 5.1 6.8\n",
      " 3.2 5.9 6.7 3.3 5.7 6.7 3.  5.2 6.3 5.  6.5 3.  5.2 6.2 3.4 5.4 5.9 3.\n",
      " 5.1]\n"
     ]
    }
   ],
   "source": [
    "# valores mayor que la mitjana.\n",
    "\n",
    "longitud_petals = np.array([arr])\n",
    "\n",
    "mitjana_petals = np.mean(longituds_petals)\n",
    "\n",
    "\n",
    "valors_major_que_mitjana = longitud_petals[longituds_petals > mitjana_petals]\n",
    "\n",
    "print(valors_major_que_mitjana)"
   ]
  },
  {
   "cell_type": "code",
   "execution_count": 50,
   "id": "9f0cd48a",
   "metadata": {},
   "outputs": [
    {
     "name": "stdout",
     "output_type": "stream",
     "text": [
      "[7.7 2.6 6.9 2.3 2. ]\n"
     ]
    }
   ],
   "source": [
    "\n",
    "columna_longitud_petalo = 2\n",
    "\n",
    "indice_fila_max_petalos = np.argmax(arr[:, columna_longitud_petalo])\n",
    "\n",
    "\n",
    "muestra_max_petalos = arr[indice_fila_max_petalos]\n",
    "\n",
    "print(muestra_max_petalos)"
   ]
  },
  {
   "cell_type": "markdown",
   "id": "0c3c8b91",
   "metadata": {},
   "source": [
    "### - Exercici 8\n",
    "##### Troba l'espècie amb la diferència més gran entre la longitud mitjana de sèpals i pètals.\n"
   ]
  },
  {
   "cell_type": "code",
   "execution_count": 68,
   "id": "e98ac080",
   "metadata": {},
   "outputs": [
    {
     "name": "stdout",
     "output_type": "stream",
     "text": [
      "Especie mayor diferencia: 0.0\n",
      "Diferencia más grande: 2.0853333333333333\n"
     ]
    }
   ],
   "source": [
    "especies = arr[:, -1]\n",
    "longitud_sepalos = arr[:, 0]\n",
    "longitud_petalos = arr[:, 2]\n",
    "\n",
    "\n",
    "longitud_mediana_sepalos = {}\n",
    "longitud_mediana_petalos = {}\n",
    "\n",
    "for especie in np.unique(especies):\n",
    "    longitud_mediana_sepalos[especie] = np.mean(longitud_sepalos)\n",
    "    longitud_mediana_petalos[especie] = np.mean(longitud_petalos)\n",
    "\n",
    "\n",
    "diferencia_longitudes = {}\n",
    "\n",
    "for especie in np.unique(especies):\n",
    "        diferencia_longitudes[especie] = abs(longitud_mediana_sepalos[especie] - longitud_mediana_petalos[especie])\n",
    "\n",
    "\n",
    "especie_max_diferencia = max(diferencia_longitudes, key=diferencia_longitudes.get)\n",
    "maxima_diferencia = diferencia_longitudes[especie_max_diferencia]\n",
    "\n",
    "print(\"Especie mayor diferencia:\", especie_max_diferencia)\n",
    "print(\"Diferencia más grande:\", maxima_diferencia)"
   ]
  },
  {
   "cell_type": "code",
   "execution_count": null,
   "id": "43ef9971",
   "metadata": {},
   "outputs": [],
   "source": []
  }
 ],
 "metadata": {
  "kernelspec": {
   "display_name": "Python 3 (ipykernel)",
   "language": "python",
   "name": "python3"
  },
  "language_info": {
   "codemirror_mode": {
    "name": "ipython",
    "version": 3
   },
   "file_extension": ".py",
   "mimetype": "text/x-python",
   "name": "python",
   "nbconvert_exporter": "python",
   "pygments_lexer": "ipython3",
   "version": "3.10.9"
  }
 },
 "nbformat": 4,
 "nbformat_minor": 5
}
